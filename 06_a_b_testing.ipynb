{
 "cells": [
  {
   "cell_type": "markdown",
   "id": "bae9ea6d",
   "metadata": {},
   "source": [
    "# Исследование работы интернет-магазина A/B тестированием"
   ]
  },
  {
   "cell_type": "markdown",
   "id": "89af6f8a",
   "metadata": {},
   "source": [
    "## Краткое описание проекта\n",
    "\n",
    "Имеется крупный интернет-магазин. Необходимо проанализировать (приоритезировать) ранее подготовленный список гипотез для увеличения выручки, а после этого запустить A/B-тесты и проанализировать результаты. \n",
    "\n",
    "### Описание файлов\n",
    "Файл со списоком гипотез\n",
    "* Hypothesis — краткое описание гипотезы;\n",
    "* Reach — охват пользователей по 10-балльной шкале;\n",
    "* Impact — влияние на пользователей по 10-балльной шкале;\n",
    "* Confidence — уверенность в гипотезе по 10-балльной шкале;\n",
    "* Efforts — затраты ресурсов на проверку гипотезы по 10-балльной шкале (чем больше значение Efforts, тем дороже проверка гипотезы).\n",
    "\n",
    "Файл со списоком заказов\n",
    "* transactionId — идентификатор заказа;\n",
    "* visitorId — идентификатор пользователя, совершившего заказ;\n",
    "* date — дата, когда был совершён заказ;\n",
    "* revenue — выручка заказа;\n",
    "* group — группа A/B-теста, в которую попал заказ.\n",
    "\n",
    "Файл со списоком визитом\n",
    "* date — дата;\n",
    "* group — группа A/B-теста;\n",
    "* visitors — количество пользователей в указанную дату в указанной группе A/B-теста"
   ]
  },
  {
   "cell_type": "code",
   "execution_count": 1,
   "id": "000494e8",
   "metadata": {},
   "outputs": [],
   "source": [
    "import pandas as pd                                             # Импортируем библиотеки\n",
    "import seaborn as sns                                           \n",
    "import math\n",
    "import matplotlib.pyplot as plt                                \n",
    "from scipy import stats as st\n",
    "import numpy as np"
   ]
  },
  {
   "cell_type": "code",
   "execution_count": 2,
   "id": "56ec006c",
   "metadata": {},
   "outputs": [
    {
     "data": {
      "text/html": [
       "<div>\n",
       "<style scoped>\n",
       "    .dataframe tbody tr th:only-of-type {\n",
       "        vertical-align: middle;\n",
       "    }\n",
       "\n",
       "    .dataframe tbody tr th {\n",
       "        vertical-align: top;\n",
       "    }\n",
       "\n",
       "    .dataframe thead th {\n",
       "        text-align: right;\n",
       "    }\n",
       "</style>\n",
       "<table border=\"1\" class=\"dataframe\">\n",
       "  <thead>\n",
       "    <tr style=\"text-align: right;\">\n",
       "      <th></th>\n",
       "      <th>Hypothesis</th>\n",
       "      <th>Reach</th>\n",
       "      <th>Impact</th>\n",
       "      <th>Confidence</th>\n",
       "      <th>Efforts</th>\n",
       "    </tr>\n",
       "  </thead>\n",
       "  <tbody>\n",
       "    <tr>\n",
       "      <th>0</th>\n",
       "      <td>Добавить два новых канала привлечения трафика,...</td>\n",
       "      <td>3</td>\n",
       "      <td>10</td>\n",
       "      <td>8</td>\n",
       "      <td>6</td>\n",
       "    </tr>\n",
       "    <tr>\n",
       "      <th>1</th>\n",
       "      <td>Запустить собственную службу доставки, что сок...</td>\n",
       "      <td>2</td>\n",
       "      <td>5</td>\n",
       "      <td>4</td>\n",
       "      <td>10</td>\n",
       "    </tr>\n",
       "    <tr>\n",
       "      <th>2</th>\n",
       "      <td>Добавить блоки рекомендаций товаров на сайт ин...</td>\n",
       "      <td>8</td>\n",
       "      <td>3</td>\n",
       "      <td>7</td>\n",
       "      <td>3</td>\n",
       "    </tr>\n",
       "    <tr>\n",
       "      <th>3</th>\n",
       "      <td>Изменить структура категорий, что увеличит кон...</td>\n",
       "      <td>8</td>\n",
       "      <td>3</td>\n",
       "      <td>3</td>\n",
       "      <td>8</td>\n",
       "    </tr>\n",
       "    <tr>\n",
       "      <th>4</th>\n",
       "      <td>Изменить цвет фона главной страницы, чтобы уве...</td>\n",
       "      <td>3</td>\n",
       "      <td>1</td>\n",
       "      <td>1</td>\n",
       "      <td>1</td>\n",
       "    </tr>\n",
       "  </tbody>\n",
       "</table>\n",
       "</div>"
      ],
      "text/plain": [
       "                                          Hypothesis  Reach  Impact  \\\n",
       "0  Добавить два новых канала привлечения трафика,...      3      10   \n",
       "1  Запустить собственную службу доставки, что сок...      2       5   \n",
       "2  Добавить блоки рекомендаций товаров на сайт ин...      8       3   \n",
       "3  Изменить структура категорий, что увеличит кон...      8       3   \n",
       "4  Изменить цвет фона главной страницы, чтобы уве...      3       1   \n",
       "\n",
       "   Confidence  Efforts  \n",
       "0           8        6  \n",
       "1           4       10  \n",
       "2           7        3  \n",
       "3           3        8  \n",
       "4           1        1  "
      ]
     },
     "metadata": {},
     "output_type": "display_data"
    },
    {
     "data": {
      "text/html": [
       "<div>\n",
       "<style scoped>\n",
       "    .dataframe tbody tr th:only-of-type {\n",
       "        vertical-align: middle;\n",
       "    }\n",
       "\n",
       "    .dataframe tbody tr th {\n",
       "        vertical-align: top;\n",
       "    }\n",
       "\n",
       "    .dataframe thead th {\n",
       "        text-align: right;\n",
       "    }\n",
       "</style>\n",
       "<table border=\"1\" class=\"dataframe\">\n",
       "  <thead>\n",
       "    <tr style=\"text-align: right;\">\n",
       "      <th></th>\n",
       "      <th>transactionId</th>\n",
       "      <th>visitorId</th>\n",
       "      <th>date</th>\n",
       "      <th>revenue</th>\n",
       "      <th>group</th>\n",
       "    </tr>\n",
       "  </thead>\n",
       "  <tbody>\n",
       "    <tr>\n",
       "      <th>0</th>\n",
       "      <td>3667963787</td>\n",
       "      <td>3312258926</td>\n",
       "      <td>2019-08-15</td>\n",
       "      <td>1650</td>\n",
       "      <td>B</td>\n",
       "    </tr>\n",
       "    <tr>\n",
       "      <th>1</th>\n",
       "      <td>2804400009</td>\n",
       "      <td>3642806036</td>\n",
       "      <td>2019-08-15</td>\n",
       "      <td>730</td>\n",
       "      <td>B</td>\n",
       "    </tr>\n",
       "    <tr>\n",
       "      <th>2</th>\n",
       "      <td>2961555356</td>\n",
       "      <td>4069496402</td>\n",
       "      <td>2019-08-15</td>\n",
       "      <td>400</td>\n",
       "      <td>A</td>\n",
       "    </tr>\n",
       "    <tr>\n",
       "      <th>3</th>\n",
       "      <td>3797467345</td>\n",
       "      <td>1196621759</td>\n",
       "      <td>2019-08-15</td>\n",
       "      <td>9759</td>\n",
       "      <td>B</td>\n",
       "    </tr>\n",
       "    <tr>\n",
       "      <th>4</th>\n",
       "      <td>2282983706</td>\n",
       "      <td>2322279887</td>\n",
       "      <td>2019-08-15</td>\n",
       "      <td>2308</td>\n",
       "      <td>B</td>\n",
       "    </tr>\n",
       "  </tbody>\n",
       "</table>\n",
       "</div>"
      ],
      "text/plain": [
       "   transactionId   visitorId        date  revenue group\n",
       "0     3667963787  3312258926  2019-08-15     1650     B\n",
       "1     2804400009  3642806036  2019-08-15      730     B\n",
       "2     2961555356  4069496402  2019-08-15      400     A\n",
       "3     3797467345  1196621759  2019-08-15     9759     B\n",
       "4     2282983706  2322279887  2019-08-15     2308     B"
      ]
     },
     "metadata": {},
     "output_type": "display_data"
    },
    {
     "data": {
      "text/html": [
       "<div>\n",
       "<style scoped>\n",
       "    .dataframe tbody tr th:only-of-type {\n",
       "        vertical-align: middle;\n",
       "    }\n",
       "\n",
       "    .dataframe tbody tr th {\n",
       "        vertical-align: top;\n",
       "    }\n",
       "\n",
       "    .dataframe thead th {\n",
       "        text-align: right;\n",
       "    }\n",
       "</style>\n",
       "<table border=\"1\" class=\"dataframe\">\n",
       "  <thead>\n",
       "    <tr style=\"text-align: right;\">\n",
       "      <th></th>\n",
       "      <th>date</th>\n",
       "      <th>group</th>\n",
       "      <th>visitors</th>\n",
       "    </tr>\n",
       "  </thead>\n",
       "  <tbody>\n",
       "    <tr>\n",
       "      <th>0</th>\n",
       "      <td>2019-08-01</td>\n",
       "      <td>A</td>\n",
       "      <td>719</td>\n",
       "    </tr>\n",
       "    <tr>\n",
       "      <th>1</th>\n",
       "      <td>2019-08-02</td>\n",
       "      <td>A</td>\n",
       "      <td>619</td>\n",
       "    </tr>\n",
       "    <tr>\n",
       "      <th>2</th>\n",
       "      <td>2019-08-03</td>\n",
       "      <td>A</td>\n",
       "      <td>507</td>\n",
       "    </tr>\n",
       "    <tr>\n",
       "      <th>3</th>\n",
       "      <td>2019-08-04</td>\n",
       "      <td>A</td>\n",
       "      <td>717</td>\n",
       "    </tr>\n",
       "    <tr>\n",
       "      <th>4</th>\n",
       "      <td>2019-08-05</td>\n",
       "      <td>A</td>\n",
       "      <td>756</td>\n",
       "    </tr>\n",
       "  </tbody>\n",
       "</table>\n",
       "</div>"
      ],
      "text/plain": [
       "         date group  visitors\n",
       "0  2019-08-01     A       719\n",
       "1  2019-08-02     A       619\n",
       "2  2019-08-03     A       507\n",
       "3  2019-08-04     A       717\n",
       "4  2019-08-05     A       756"
      ]
     },
     "metadata": {},
     "output_type": "display_data"
    }
   ],
   "source": [
    "display(pd.read_csv('https://code.s3.yandex.net/datasets/hypothesis.csv',nrows = 5).head())         # Выведем на экран первые 5 строк \n",
    "display(pd.read_csv('https://code.s3.yandex.net/datasets/orders.csv',nrows = 5).head())       \n",
    "display(pd.read_csv('https://code.s3.yandex.net/datasets/visitors.csv',nrows = 5).head()) "
   ]
  },
  {
   "cell_type": "markdown",
   "id": "025e274d",
   "metadata": {},
   "source": [
    "Поcледовательно проверив все файлы, приходим к выводу, что все файлы корректно считываются, коррекция разделителя столбцов не требуется. Также необходимо отметить о несоответствии названий столбцов змеиному регистру первого и второго файла."
   ]
  },
  {
   "cell_type": "code",
   "execution_count": 3,
   "id": "64721b18",
   "metadata": {},
   "outputs": [],
   "source": [
    "hypothesis = pd.read_csv('https://code.s3.yandex.net/datasets/hypothesis.csv')                           # Считаем файлы\n",
    "orders = pd.read_csv('https://code.s3.yandex.net/datasets/orders.csv')              \n",
    "visitors = pd.read_csv('https://code.s3.yandex.net/datasets/visitors.csv')  \n",
    "list_table = [hypothesis, orders, visitors] # Создадим список датафреймов (согл. документации):"
   ]
  },
  {
   "cell_type": "code",
   "execution_count": 4,
   "id": "607fb3c3",
   "metadata": {},
   "outputs": [],
   "source": [
    "pd.set_option(\"display.max_colwidth\", 100) #расширит ячейки до 100 символов в строке"
   ]
  },
  {
   "cell_type": "code",
   "execution_count": 5,
   "id": "c22e52e0",
   "metadata": {},
   "outputs": [
    {
     "data": {
      "text/html": [
       "<div>\n",
       "<style scoped>\n",
       "    .dataframe tbody tr th:only-of-type {\n",
       "        vertical-align: middle;\n",
       "    }\n",
       "\n",
       "    .dataframe tbody tr th {\n",
       "        vertical-align: top;\n",
       "    }\n",
       "\n",
       "    .dataframe thead th {\n",
       "        text-align: right;\n",
       "    }\n",
       "</style>\n",
       "<table border=\"1\" class=\"dataframe\">\n",
       "  <thead>\n",
       "    <tr style=\"text-align: right;\">\n",
       "      <th></th>\n",
       "      <th>Hypothesis</th>\n",
       "      <th>Reach</th>\n",
       "      <th>Impact</th>\n",
       "      <th>Confidence</th>\n",
       "      <th>Efforts</th>\n",
       "    </tr>\n",
       "  </thead>\n",
       "  <tbody>\n",
       "    <tr>\n",
       "      <th>0</th>\n",
       "      <td>Добавить два новых канала привлечения трафика, что позволит привлекать на 30% больше пользователей</td>\n",
       "      <td>3</td>\n",
       "      <td>10</td>\n",
       "      <td>8</td>\n",
       "      <td>6</td>\n",
       "    </tr>\n",
       "    <tr>\n",
       "      <th>1</th>\n",
       "      <td>Запустить собственную службу доставки, что сократит срок доставки заказов</td>\n",
       "      <td>2</td>\n",
       "      <td>5</td>\n",
       "      <td>4</td>\n",
       "      <td>10</td>\n",
       "    </tr>\n",
       "    <tr>\n",
       "      <th>2</th>\n",
       "      <td>Добавить блоки рекомендаций товаров на сайт интернет магазина, чтобы повысить конверсию и средни...</td>\n",
       "      <td>8</td>\n",
       "      <td>3</td>\n",
       "      <td>7</td>\n",
       "      <td>3</td>\n",
       "    </tr>\n",
       "    <tr>\n",
       "      <th>3</th>\n",
       "      <td>Изменить структура категорий, что увеличит конверсию, т.к. пользователи быстрее найдут нужный товар</td>\n",
       "      <td>8</td>\n",
       "      <td>3</td>\n",
       "      <td>3</td>\n",
       "      <td>8</td>\n",
       "    </tr>\n",
       "    <tr>\n",
       "      <th>4</th>\n",
       "      <td>Изменить цвет фона главной страницы, чтобы увеличить вовлеченность пользователей</td>\n",
       "      <td>3</td>\n",
       "      <td>1</td>\n",
       "      <td>1</td>\n",
       "      <td>1</td>\n",
       "    </tr>\n",
       "  </tbody>\n",
       "</table>\n",
       "</div>"
      ],
      "text/plain": [
       "                                                                                            Hypothesis  \\\n",
       "0   Добавить два новых канала привлечения трафика, что позволит привлекать на 30% больше пользователей   \n",
       "1                            Запустить собственную службу доставки, что сократит срок доставки заказов   \n",
       "2  Добавить блоки рекомендаций товаров на сайт интернет магазина, чтобы повысить конверсию и средни...   \n",
       "3  Изменить структура категорий, что увеличит конверсию, т.к. пользователи быстрее найдут нужный товар   \n",
       "4                     Изменить цвет фона главной страницы, чтобы увеличить вовлеченность пользователей   \n",
       "\n",
       "   Reach  Impact  Confidence  Efforts  \n",
       "0      3      10           8        6  \n",
       "1      2       5           4       10  \n",
       "2      8       3           7        3  \n",
       "3      8       3           3        8  \n",
       "4      3       1           1        1  "
      ]
     },
     "metadata": {},
     "output_type": "display_data"
    },
    {
     "name": "stdout",
     "output_type": "stream",
     "text": [
      "<class 'pandas.core.frame.DataFrame'>\n",
      "RangeIndex: 9 entries, 0 to 8\n",
      "Data columns (total 5 columns):\n",
      " #   Column      Non-Null Count  Dtype \n",
      "---  ------      --------------  ----- \n",
      " 0   Hypothesis  9 non-null      object\n",
      " 1   Reach       9 non-null      int64 \n",
      " 2   Impact      9 non-null      int64 \n",
      " 3   Confidence  9 non-null      int64 \n",
      " 4   Efforts     9 non-null      int64 \n",
      "dtypes: int64(4), object(1)\n",
      "memory usage: 488.0+ bytes\n",
      "    Дубликатов, шт: 0\n",
      "    Пропусков по столбцам:\n"
     ]
    },
    {
     "data": {
      "text/plain": [
       "Hypothesis    0\n",
       "Reach         0\n",
       "Impact        0\n",
       "Confidence    0\n",
       "Efforts       0\n",
       "dtype: int64"
      ]
     },
     "metadata": {},
     "output_type": "display_data"
    },
    {
     "name": "stdout",
     "output_type": "stream",
     "text": [
      "\n"
     ]
    },
    {
     "data": {
      "text/html": [
       "<div>\n",
       "<style scoped>\n",
       "    .dataframe tbody tr th:only-of-type {\n",
       "        vertical-align: middle;\n",
       "    }\n",
       "\n",
       "    .dataframe tbody tr th {\n",
       "        vertical-align: top;\n",
       "    }\n",
       "\n",
       "    .dataframe thead th {\n",
       "        text-align: right;\n",
       "    }\n",
       "</style>\n",
       "<table border=\"1\" class=\"dataframe\">\n",
       "  <thead>\n",
       "    <tr style=\"text-align: right;\">\n",
       "      <th></th>\n",
       "      <th>transactionId</th>\n",
       "      <th>visitorId</th>\n",
       "      <th>date</th>\n",
       "      <th>revenue</th>\n",
       "      <th>group</th>\n",
       "    </tr>\n",
       "  </thead>\n",
       "  <tbody>\n",
       "    <tr>\n",
       "      <th>0</th>\n",
       "      <td>3667963787</td>\n",
       "      <td>3312258926</td>\n",
       "      <td>2019-08-15</td>\n",
       "      <td>1650</td>\n",
       "      <td>B</td>\n",
       "    </tr>\n",
       "    <tr>\n",
       "      <th>1</th>\n",
       "      <td>2804400009</td>\n",
       "      <td>3642806036</td>\n",
       "      <td>2019-08-15</td>\n",
       "      <td>730</td>\n",
       "      <td>B</td>\n",
       "    </tr>\n",
       "    <tr>\n",
       "      <th>2</th>\n",
       "      <td>2961555356</td>\n",
       "      <td>4069496402</td>\n",
       "      <td>2019-08-15</td>\n",
       "      <td>400</td>\n",
       "      <td>A</td>\n",
       "    </tr>\n",
       "    <tr>\n",
       "      <th>3</th>\n",
       "      <td>3797467345</td>\n",
       "      <td>1196621759</td>\n",
       "      <td>2019-08-15</td>\n",
       "      <td>9759</td>\n",
       "      <td>B</td>\n",
       "    </tr>\n",
       "    <tr>\n",
       "      <th>4</th>\n",
       "      <td>2282983706</td>\n",
       "      <td>2322279887</td>\n",
       "      <td>2019-08-15</td>\n",
       "      <td>2308</td>\n",
       "      <td>B</td>\n",
       "    </tr>\n",
       "  </tbody>\n",
       "</table>\n",
       "</div>"
      ],
      "text/plain": [
       "   transactionId   visitorId        date  revenue group\n",
       "0     3667963787  3312258926  2019-08-15     1650     B\n",
       "1     2804400009  3642806036  2019-08-15      730     B\n",
       "2     2961555356  4069496402  2019-08-15      400     A\n",
       "3     3797467345  1196621759  2019-08-15     9759     B\n",
       "4     2282983706  2322279887  2019-08-15     2308     B"
      ]
     },
     "metadata": {},
     "output_type": "display_data"
    },
    {
     "name": "stdout",
     "output_type": "stream",
     "text": [
      "<class 'pandas.core.frame.DataFrame'>\n",
      "RangeIndex: 1197 entries, 0 to 1196\n",
      "Data columns (total 5 columns):\n",
      " #   Column         Non-Null Count  Dtype \n",
      "---  ------         --------------  ----- \n",
      " 0   transactionId  1197 non-null   int64 \n",
      " 1   visitorId      1197 non-null   int64 \n",
      " 2   date           1197 non-null   object\n",
      " 3   revenue        1197 non-null   int64 \n",
      " 4   group          1197 non-null   object\n",
      "dtypes: int64(3), object(2)\n",
      "memory usage: 46.9+ KB\n",
      "    Дубликатов, шт: 0\n",
      "    Пропусков по столбцам:\n"
     ]
    },
    {
     "data": {
      "text/plain": [
       "transactionId    0\n",
       "visitorId        0\n",
       "date             0\n",
       "revenue          0\n",
       "group            0\n",
       "dtype: int64"
      ]
     },
     "metadata": {},
     "output_type": "display_data"
    },
    {
     "name": "stdout",
     "output_type": "stream",
     "text": [
      "\n"
     ]
    },
    {
     "data": {
      "text/html": [
       "<div>\n",
       "<style scoped>\n",
       "    .dataframe tbody tr th:only-of-type {\n",
       "        vertical-align: middle;\n",
       "    }\n",
       "\n",
       "    .dataframe tbody tr th {\n",
       "        vertical-align: top;\n",
       "    }\n",
       "\n",
       "    .dataframe thead th {\n",
       "        text-align: right;\n",
       "    }\n",
       "</style>\n",
       "<table border=\"1\" class=\"dataframe\">\n",
       "  <thead>\n",
       "    <tr style=\"text-align: right;\">\n",
       "      <th></th>\n",
       "      <th>date</th>\n",
       "      <th>group</th>\n",
       "      <th>visitors</th>\n",
       "    </tr>\n",
       "  </thead>\n",
       "  <tbody>\n",
       "    <tr>\n",
       "      <th>0</th>\n",
       "      <td>2019-08-01</td>\n",
       "      <td>A</td>\n",
       "      <td>719</td>\n",
       "    </tr>\n",
       "    <tr>\n",
       "      <th>1</th>\n",
       "      <td>2019-08-02</td>\n",
       "      <td>A</td>\n",
       "      <td>619</td>\n",
       "    </tr>\n",
       "    <tr>\n",
       "      <th>2</th>\n",
       "      <td>2019-08-03</td>\n",
       "      <td>A</td>\n",
       "      <td>507</td>\n",
       "    </tr>\n",
       "    <tr>\n",
       "      <th>3</th>\n",
       "      <td>2019-08-04</td>\n",
       "      <td>A</td>\n",
       "      <td>717</td>\n",
       "    </tr>\n",
       "    <tr>\n",
       "      <th>4</th>\n",
       "      <td>2019-08-05</td>\n",
       "      <td>A</td>\n",
       "      <td>756</td>\n",
       "    </tr>\n",
       "  </tbody>\n",
       "</table>\n",
       "</div>"
      ],
      "text/plain": [
       "         date group  visitors\n",
       "0  2019-08-01     A       719\n",
       "1  2019-08-02     A       619\n",
       "2  2019-08-03     A       507\n",
       "3  2019-08-04     A       717\n",
       "4  2019-08-05     A       756"
      ]
     },
     "metadata": {},
     "output_type": "display_data"
    },
    {
     "name": "stdout",
     "output_type": "stream",
     "text": [
      "<class 'pandas.core.frame.DataFrame'>\n",
      "RangeIndex: 62 entries, 0 to 61\n",
      "Data columns (total 3 columns):\n",
      " #   Column    Non-Null Count  Dtype \n",
      "---  ------    --------------  ----- \n",
      " 0   date      62 non-null     object\n",
      " 1   group     62 non-null     object\n",
      " 2   visitors  62 non-null     int64 \n",
      "dtypes: int64(1), object(2)\n",
      "memory usage: 1.6+ KB\n",
      "    Дубликатов, шт: 0\n",
      "    Пропусков по столбцам:\n"
     ]
    },
    {
     "data": {
      "text/plain": [
       "date        0\n",
       "group       0\n",
       "visitors    0\n",
       "dtype: int64"
      ]
     },
     "metadata": {},
     "output_type": "display_data"
    },
    {
     "name": "stdout",
     "output_type": "stream",
     "text": [
      "\n"
     ]
    }
   ],
   "source": [
    "for i in list_table:                                                    # Создадим цикл, который пройдет по всему списку\n",
    "    display(i.head())                                                   # Выведем по 5 строк каждого\n",
    "    i.info()                                                            # Выведем общую информацию\n",
    "    print('    Дубликатов, шт:',i.duplicated().sum())                   # Выведем кол-во дубликатов\n",
    "    print('    Пропусков по столбцам:')\n",
    "    display(i.isna().sum())                                             # подсчёт пропусков\n",
    "    #print('    Вывод статистической информации:')\n",
    "    #round(visits.describe(),2)                                         # Выведем на экран статистическую информацию\n",
    "    print()"
   ]
  },
  {
   "cell_type": "markdown",
   "id": "5c366c19",
   "metadata": {},
   "source": [
    "По данным информации, отображенной на экране в предыдущих двух ячейках, можно сделать план предобработки данных:\n",
    "\n",
    "### Обзор проблем с датафреймами (план предобработки): \n",
    "<a class=\"anchor\" id=\"plan\"></a>\n",
    "* hypothesis\n",
    "    * названия столбцов привести к змеиному регистру\n",
    "* orders\n",
    "    * названия столбцов привести к змеиному регистру\n",
    "    * столбцу 'date' изменить тип на временной.\n",
    "* visitors\n",
    "    * столбцу 'date' изменить тип на временной.\n"
   ]
  },
  {
   "cell_type": "markdown",
   "id": "f31f88ac",
   "metadata": {},
   "source": [
    "## Предобработка\n",
    "\n",
    "### Изменение типов данных"
   ]
  },
  {
   "cell_type": "code",
   "execution_count": 7,
   "id": "c1f380b4",
   "metadata": {},
   "outputs": [
    {
     "name": "stdout",
     "output_type": "stream",
     "text": [
      "До: Index(['Hypothesis', 'Reach', 'Impact', 'Confidence', 'Efforts'], dtype='object')\n",
      "После: Index(['hypothesis', 'reach', 'impact', 'confidence', 'efforts'], dtype='object')\n",
      "\n",
      "Итого: Index(['transaction_id', 'visitor_id', 'date', 'revenue', 'group'], dtype='object')\n",
      "\n",
      "Тип: datetime64[ns]\n",
      "Тип: datetime64[ns]\n"
     ]
    }
   ],
   "source": [
    "print('До:',hypothesis.columns)\n",
    "hypothesis.columns = hypothesis.columns.str.lower()                    # Названия в нижний регистр\n",
    "print('После:',hypothesis.columns)\n",
    "print()\n",
    "\n",
    "orders = orders.rename(columns={'transactionId':'transaction_id','visitorId':'visitor_id'})\n",
    "print('Итого:',orders.columns)\n",
    "print()\n",
    "\n",
    "orders['date'] = pd.to_datetime(orders['date'], format='%Y-%m-%d')     # Было 2019-08-15\n",
    "print('Тип:',orders['date'].dtype)                                     # Проверим\n",
    "\n",
    "visitors['date'] = pd.to_datetime(visitors['date'], format='%Y-%m-%d') # Было 2019-08-01\n",
    "print('Тип:',visitors['date'].dtype)                                   # Проверим\n"
   ]
  },
  {
   "cell_type": "markdown",
   "id": "0a6320ef",
   "metadata": {},
   "source": [
    "### Проверка на неявные дубликаты \n",
    "Проверим на неявные дубликаты критически важные данные - столбцы с группами."
   ]
  },
  {
   "cell_type": "code",
   "execution_count": 8,
   "id": "d6302870",
   "metadata": {},
   "outputs": [
    {
     "data": {
      "text/plain": [
       "B    640\n",
       "A    557\n",
       "Name: group, dtype: int64"
      ]
     },
     "metadata": {},
     "output_type": "display_data"
    },
    {
     "data": {
      "text/plain": [
       "A    31\n",
       "B    31\n",
       "Name: group, dtype: int64"
      ]
     },
     "metadata": {},
     "output_type": "display_data"
    }
   ],
   "source": [
    "# При помощи метода .value_counts() возвратим перечень уникальных значений и их кол-во\n",
    "for i in [orders['group'],visitors['group']]:\n",
    "    display(i.value_counts())"
   ]
  },
  {
   "cell_type": "markdown",
   "id": "52163265",
   "metadata": {},
   "source": [
    "Промежуточный вывод: предобработка завершена успешно.\n",
    "### Итоговые датафреймы для работы\n",
    "Для дальнейшего удобства ещё раз выведем на экран по пять первых строк датафреймов:"
   ]
  },
  {
   "cell_type": "code",
   "execution_count": 9,
   "id": "1b4e46a5",
   "metadata": {},
   "outputs": [
    {
     "data": {
      "text/html": [
       "<div>\n",
       "<style scoped>\n",
       "    .dataframe tbody tr th:only-of-type {\n",
       "        vertical-align: middle;\n",
       "    }\n",
       "\n",
       "    .dataframe tbody tr th {\n",
       "        vertical-align: top;\n",
       "    }\n",
       "\n",
       "    .dataframe thead th {\n",
       "        text-align: right;\n",
       "    }\n",
       "</style>\n",
       "<table border=\"1\" class=\"dataframe\">\n",
       "  <thead>\n",
       "    <tr style=\"text-align: right;\">\n",
       "      <th></th>\n",
       "      <th>hypothesis</th>\n",
       "      <th>reach</th>\n",
       "      <th>impact</th>\n",
       "      <th>confidence</th>\n",
       "      <th>efforts</th>\n",
       "    </tr>\n",
       "  </thead>\n",
       "  <tbody>\n",
       "    <tr>\n",
       "      <th>0</th>\n",
       "      <td>Добавить два новых канала привлечения трафика, что позволит привлекать на 30% больше пользователей</td>\n",
       "      <td>3</td>\n",
       "      <td>10</td>\n",
       "      <td>8</td>\n",
       "      <td>6</td>\n",
       "    </tr>\n",
       "    <tr>\n",
       "      <th>1</th>\n",
       "      <td>Запустить собственную службу доставки, что сократит срок доставки заказов</td>\n",
       "      <td>2</td>\n",
       "      <td>5</td>\n",
       "      <td>4</td>\n",
       "      <td>10</td>\n",
       "    </tr>\n",
       "    <tr>\n",
       "      <th>2</th>\n",
       "      <td>Добавить блоки рекомендаций товаров на сайт интернет магазина, чтобы повысить конверсию и средни...</td>\n",
       "      <td>8</td>\n",
       "      <td>3</td>\n",
       "      <td>7</td>\n",
       "      <td>3</td>\n",
       "    </tr>\n",
       "    <tr>\n",
       "      <th>3</th>\n",
       "      <td>Изменить структура категорий, что увеличит конверсию, т.к. пользователи быстрее найдут нужный товар</td>\n",
       "      <td>8</td>\n",
       "      <td>3</td>\n",
       "      <td>3</td>\n",
       "      <td>8</td>\n",
       "    </tr>\n",
       "    <tr>\n",
       "      <th>4</th>\n",
       "      <td>Изменить цвет фона главной страницы, чтобы увеличить вовлеченность пользователей</td>\n",
       "      <td>3</td>\n",
       "      <td>1</td>\n",
       "      <td>1</td>\n",
       "      <td>1</td>\n",
       "    </tr>\n",
       "    <tr>\n",
       "      <th>5</th>\n",
       "      <td>Добавить страницу отзывов клиентов о магазине, что позволит увеличить количество заказов</td>\n",
       "      <td>3</td>\n",
       "      <td>2</td>\n",
       "      <td>2</td>\n",
       "      <td>3</td>\n",
       "    </tr>\n",
       "    <tr>\n",
       "      <th>6</th>\n",
       "      <td>Показать на главной странице баннеры с актуальными акциями и распродажами, чтобы увеличить конве...</td>\n",
       "      <td>5</td>\n",
       "      <td>3</td>\n",
       "      <td>8</td>\n",
       "      <td>3</td>\n",
       "    </tr>\n",
       "    <tr>\n",
       "      <th>7</th>\n",
       "      <td>Добавить форму подписки на все основные страницы, чтобы собрать базу клиентов для email-рассылок</td>\n",
       "      <td>10</td>\n",
       "      <td>7</td>\n",
       "      <td>8</td>\n",
       "      <td>5</td>\n",
       "    </tr>\n",
       "    <tr>\n",
       "      <th>8</th>\n",
       "      <td>Запустить акцию, дающую скидку на товар в день рождения</td>\n",
       "      <td>1</td>\n",
       "      <td>9</td>\n",
       "      <td>9</td>\n",
       "      <td>5</td>\n",
       "    </tr>\n",
       "  </tbody>\n",
       "</table>\n",
       "</div>"
      ],
      "text/plain": [
       "                                                                                            hypothesis  \\\n",
       "0   Добавить два новых канала привлечения трафика, что позволит привлекать на 30% больше пользователей   \n",
       "1                            Запустить собственную службу доставки, что сократит срок доставки заказов   \n",
       "2  Добавить блоки рекомендаций товаров на сайт интернет магазина, чтобы повысить конверсию и средни...   \n",
       "3  Изменить структура категорий, что увеличит конверсию, т.к. пользователи быстрее найдут нужный товар   \n",
       "4                     Изменить цвет фона главной страницы, чтобы увеличить вовлеченность пользователей   \n",
       "5             Добавить страницу отзывов клиентов о магазине, что позволит увеличить количество заказов   \n",
       "6  Показать на главной странице баннеры с актуальными акциями и распродажами, чтобы увеличить конве...   \n",
       "7     Добавить форму подписки на все основные страницы, чтобы собрать базу клиентов для email-рассылок   \n",
       "8                                              Запустить акцию, дающую скидку на товар в день рождения   \n",
       "\n",
       "   reach  impact  confidence  efforts  \n",
       "0      3      10           8        6  \n",
       "1      2       5           4       10  \n",
       "2      8       3           7        3  \n",
       "3      8       3           3        8  \n",
       "4      3       1           1        1  \n",
       "5      3       2           2        3  \n",
       "6      5       3           8        3  \n",
       "7     10       7           8        5  \n",
       "8      1       9           9        5  "
      ]
     },
     "metadata": {},
     "output_type": "display_data"
    },
    {
     "data": {
      "text/html": [
       "<div>\n",
       "<style scoped>\n",
       "    .dataframe tbody tr th:only-of-type {\n",
       "        vertical-align: middle;\n",
       "    }\n",
       "\n",
       "    .dataframe tbody tr th {\n",
       "        vertical-align: top;\n",
       "    }\n",
       "\n",
       "    .dataframe thead th {\n",
       "        text-align: right;\n",
       "    }\n",
       "</style>\n",
       "<table border=\"1\" class=\"dataframe\">\n",
       "  <thead>\n",
       "    <tr style=\"text-align: right;\">\n",
       "      <th></th>\n",
       "      <th>transaction_id</th>\n",
       "      <th>visitor_id</th>\n",
       "      <th>date</th>\n",
       "      <th>revenue</th>\n",
       "      <th>group</th>\n",
       "    </tr>\n",
       "  </thead>\n",
       "  <tbody>\n",
       "    <tr>\n",
       "      <th>0</th>\n",
       "      <td>3667963787</td>\n",
       "      <td>3312258926</td>\n",
       "      <td>2019-08-15</td>\n",
       "      <td>1650</td>\n",
       "      <td>B</td>\n",
       "    </tr>\n",
       "    <tr>\n",
       "      <th>1</th>\n",
       "      <td>2804400009</td>\n",
       "      <td>3642806036</td>\n",
       "      <td>2019-08-15</td>\n",
       "      <td>730</td>\n",
       "      <td>B</td>\n",
       "    </tr>\n",
       "    <tr>\n",
       "      <th>2</th>\n",
       "      <td>2961555356</td>\n",
       "      <td>4069496402</td>\n",
       "      <td>2019-08-15</td>\n",
       "      <td>400</td>\n",
       "      <td>A</td>\n",
       "    </tr>\n",
       "    <tr>\n",
       "      <th>3</th>\n",
       "      <td>3797467345</td>\n",
       "      <td>1196621759</td>\n",
       "      <td>2019-08-15</td>\n",
       "      <td>9759</td>\n",
       "      <td>B</td>\n",
       "    </tr>\n",
       "    <tr>\n",
       "      <th>4</th>\n",
       "      <td>2282983706</td>\n",
       "      <td>2322279887</td>\n",
       "      <td>2019-08-15</td>\n",
       "      <td>2308</td>\n",
       "      <td>B</td>\n",
       "    </tr>\n",
       "  </tbody>\n",
       "</table>\n",
       "</div>"
      ],
      "text/plain": [
       "   transaction_id  visitor_id       date  revenue group\n",
       "0      3667963787  3312258926 2019-08-15     1650     B\n",
       "1      2804400009  3642806036 2019-08-15      730     B\n",
       "2      2961555356  4069496402 2019-08-15      400     A\n",
       "3      3797467345  1196621759 2019-08-15     9759     B\n",
       "4      2282983706  2322279887 2019-08-15     2308     B"
      ]
     },
     "metadata": {},
     "output_type": "display_data"
    },
    {
     "data": {
      "text/html": [
       "<div>\n",
       "<style scoped>\n",
       "    .dataframe tbody tr th:only-of-type {\n",
       "        vertical-align: middle;\n",
       "    }\n",
       "\n",
       "    .dataframe tbody tr th {\n",
       "        vertical-align: top;\n",
       "    }\n",
       "\n",
       "    .dataframe thead th {\n",
       "        text-align: right;\n",
       "    }\n",
       "</style>\n",
       "<table border=\"1\" class=\"dataframe\">\n",
       "  <thead>\n",
       "    <tr style=\"text-align: right;\">\n",
       "      <th></th>\n",
       "      <th>date</th>\n",
       "      <th>group</th>\n",
       "      <th>visitors</th>\n",
       "    </tr>\n",
       "  </thead>\n",
       "  <tbody>\n",
       "    <tr>\n",
       "      <th>0</th>\n",
       "      <td>2019-08-01</td>\n",
       "      <td>A</td>\n",
       "      <td>719</td>\n",
       "    </tr>\n",
       "    <tr>\n",
       "      <th>1</th>\n",
       "      <td>2019-08-02</td>\n",
       "      <td>A</td>\n",
       "      <td>619</td>\n",
       "    </tr>\n",
       "    <tr>\n",
       "      <th>2</th>\n",
       "      <td>2019-08-03</td>\n",
       "      <td>A</td>\n",
       "      <td>507</td>\n",
       "    </tr>\n",
       "    <tr>\n",
       "      <th>3</th>\n",
       "      <td>2019-08-04</td>\n",
       "      <td>A</td>\n",
       "      <td>717</td>\n",
       "    </tr>\n",
       "    <tr>\n",
       "      <th>4</th>\n",
       "      <td>2019-08-05</td>\n",
       "      <td>A</td>\n",
       "      <td>756</td>\n",
       "    </tr>\n",
       "  </tbody>\n",
       "</table>\n",
       "</div>"
      ],
      "text/plain": [
       "        date group  visitors\n",
       "0 2019-08-01     A       719\n",
       "1 2019-08-02     A       619\n",
       "2 2019-08-03     A       507\n",
       "3 2019-08-04     A       717\n",
       "4 2019-08-05     A       756"
      ]
     },
     "metadata": {},
     "output_type": "display_data"
    }
   ],
   "source": [
    "display(hypothesis.head(10))\n",
    "#hypothesis.info()\n",
    "\n",
    "display(orders.head(5))\n",
    "#orders.info()\n",
    "\n",
    "display(visitors.head(5))\n",
    "#visitors.info()"
   ]
  },
  {
   "cell_type": "markdown",
   "id": "28d78bd2",
   "metadata": {},
   "source": [
    "## Приоритезация гипотез\n",
    "Дополним файл с перечнем гипотез столбцами с оценками \"ICE SCORE\" и \"RICE SCORE\" и выведем перечень гипотез на экран:"
   ]
  },
  {
   "cell_type": "code",
   "execution_count": 10,
   "id": "d2972c4c",
   "metadata": {},
   "outputs": [
    {
     "data": {
      "text/html": [
       "<div>\n",
       "<style scoped>\n",
       "    .dataframe tbody tr th:only-of-type {\n",
       "        vertical-align: middle;\n",
       "    }\n",
       "\n",
       "    .dataframe tbody tr th {\n",
       "        vertical-align: top;\n",
       "    }\n",
       "\n",
       "    .dataframe thead th {\n",
       "        text-align: right;\n",
       "    }\n",
       "</style>\n",
       "<table border=\"1\" class=\"dataframe\">\n",
       "  <thead>\n",
       "    <tr style=\"text-align: right;\">\n",
       "      <th></th>\n",
       "      <th>hypothesis</th>\n",
       "      <th>reach</th>\n",
       "      <th>impact</th>\n",
       "      <th>confidence</th>\n",
       "      <th>efforts</th>\n",
       "      <th>ice</th>\n",
       "    </tr>\n",
       "  </thead>\n",
       "  <tbody>\n",
       "    <tr>\n",
       "      <th>8</th>\n",
       "      <td>Запустить акцию, дающую скидку на товар в день рождения</td>\n",
       "      <td>1</td>\n",
       "      <td>9</td>\n",
       "      <td>9</td>\n",
       "      <td>5</td>\n",
       "      <td>16.20</td>\n",
       "    </tr>\n",
       "    <tr>\n",
       "      <th>0</th>\n",
       "      <td>Добавить два новых канала привлечения трафика, что позволит привлекать на 30% больше пользователей</td>\n",
       "      <td>3</td>\n",
       "      <td>10</td>\n",
       "      <td>8</td>\n",
       "      <td>6</td>\n",
       "      <td>13.33</td>\n",
       "    </tr>\n",
       "    <tr>\n",
       "      <th>7</th>\n",
       "      <td>Добавить форму подписки на все основные страницы, чтобы собрать базу клиентов для email-рассылок</td>\n",
       "      <td>10</td>\n",
       "      <td>7</td>\n",
       "      <td>8</td>\n",
       "      <td>5</td>\n",
       "      <td>11.20</td>\n",
       "    </tr>\n",
       "    <tr>\n",
       "      <th>6</th>\n",
       "      <td>Показать на главной странице баннеры с актуальными акциями и распродажами, чтобы увеличить конве...</td>\n",
       "      <td>5</td>\n",
       "      <td>3</td>\n",
       "      <td>8</td>\n",
       "      <td>3</td>\n",
       "      <td>8.00</td>\n",
       "    </tr>\n",
       "    <tr>\n",
       "      <th>2</th>\n",
       "      <td>Добавить блоки рекомендаций товаров на сайт интернет магазина, чтобы повысить конверсию и средни...</td>\n",
       "      <td>8</td>\n",
       "      <td>3</td>\n",
       "      <td>7</td>\n",
       "      <td>3</td>\n",
       "      <td>7.00</td>\n",
       "    </tr>\n",
       "    <tr>\n",
       "      <th>1</th>\n",
       "      <td>Запустить собственную службу доставки, что сократит срок доставки заказов</td>\n",
       "      <td>2</td>\n",
       "      <td>5</td>\n",
       "      <td>4</td>\n",
       "      <td>10</td>\n",
       "      <td>2.00</td>\n",
       "    </tr>\n",
       "    <tr>\n",
       "      <th>5</th>\n",
       "      <td>Добавить страницу отзывов клиентов о магазине, что позволит увеличить количество заказов</td>\n",
       "      <td>3</td>\n",
       "      <td>2</td>\n",
       "      <td>2</td>\n",
       "      <td>3</td>\n",
       "      <td>1.33</td>\n",
       "    </tr>\n",
       "    <tr>\n",
       "      <th>3</th>\n",
       "      <td>Изменить структура категорий, что увеличит конверсию, т.к. пользователи быстрее найдут нужный товар</td>\n",
       "      <td>8</td>\n",
       "      <td>3</td>\n",
       "      <td>3</td>\n",
       "      <td>8</td>\n",
       "      <td>1.12</td>\n",
       "    </tr>\n",
       "    <tr>\n",
       "      <th>4</th>\n",
       "      <td>Изменить цвет фона главной страницы, чтобы увеличить вовлеченность пользователей</td>\n",
       "      <td>3</td>\n",
       "      <td>1</td>\n",
       "      <td>1</td>\n",
       "      <td>1</td>\n",
       "      <td>1.00</td>\n",
       "    </tr>\n",
       "  </tbody>\n",
       "</table>\n",
       "</div>"
      ],
      "text/plain": [
       "                                                                                            hypothesis  \\\n",
       "8                                              Запустить акцию, дающую скидку на товар в день рождения   \n",
       "0   Добавить два новых канала привлечения трафика, что позволит привлекать на 30% больше пользователей   \n",
       "7     Добавить форму подписки на все основные страницы, чтобы собрать базу клиентов для email-рассылок   \n",
       "6  Показать на главной странице баннеры с актуальными акциями и распродажами, чтобы увеличить конве...   \n",
       "2  Добавить блоки рекомендаций товаров на сайт интернет магазина, чтобы повысить конверсию и средни...   \n",
       "1                            Запустить собственную службу доставки, что сократит срок доставки заказов   \n",
       "5             Добавить страницу отзывов клиентов о магазине, что позволит увеличить количество заказов   \n",
       "3  Изменить структура категорий, что увеличит конверсию, т.к. пользователи быстрее найдут нужный товар   \n",
       "4                     Изменить цвет фона главной страницы, чтобы увеличить вовлеченность пользователей   \n",
       "\n",
       "   reach  impact  confidence  efforts    ice  \n",
       "8      1       9           9        5  16.20  \n",
       "0      3      10           8        6  13.33  \n",
       "7     10       7           8        5  11.20  \n",
       "6      5       3           8        3   8.00  \n",
       "2      8       3           7        3   7.00  \n",
       "1      2       5           4       10   2.00  \n",
       "5      3       2           2        3   1.33  \n",
       "3      8       3           3        8   1.12  \n",
       "4      3       1           1        1   1.00  "
      ]
     },
     "metadata": {},
     "output_type": "display_data"
    },
    {
     "data": {
      "text/html": [
       "<div>\n",
       "<style scoped>\n",
       "    .dataframe tbody tr th:only-of-type {\n",
       "        vertical-align: middle;\n",
       "    }\n",
       "\n",
       "    .dataframe tbody tr th {\n",
       "        vertical-align: top;\n",
       "    }\n",
       "\n",
       "    .dataframe thead th {\n",
       "        text-align: right;\n",
       "    }\n",
       "</style>\n",
       "<table border=\"1\" class=\"dataframe\">\n",
       "  <thead>\n",
       "    <tr style=\"text-align: right;\">\n",
       "      <th></th>\n",
       "      <th>hypothesis</th>\n",
       "      <th>reach</th>\n",
       "      <th>impact</th>\n",
       "      <th>confidence</th>\n",
       "      <th>efforts</th>\n",
       "      <th>ice</th>\n",
       "      <th>rice</th>\n",
       "    </tr>\n",
       "  </thead>\n",
       "  <tbody>\n",
       "    <tr>\n",
       "      <th>7</th>\n",
       "      <td>Добавить форму подписки на все основные страницы, чтобы собрать базу клиентов для email-рассылок</td>\n",
       "      <td>10</td>\n",
       "      <td>7</td>\n",
       "      <td>8</td>\n",
       "      <td>5</td>\n",
       "      <td>11.20</td>\n",
       "      <td>112.0</td>\n",
       "    </tr>\n",
       "    <tr>\n",
       "      <th>2</th>\n",
       "      <td>Добавить блоки рекомендаций товаров на сайт интернет магазина, чтобы повысить конверсию и средни...</td>\n",
       "      <td>8</td>\n",
       "      <td>3</td>\n",
       "      <td>7</td>\n",
       "      <td>3</td>\n",
       "      <td>7.00</td>\n",
       "      <td>56.0</td>\n",
       "    </tr>\n",
       "    <tr>\n",
       "      <th>0</th>\n",
       "      <td>Добавить два новых канала привлечения трафика, что позволит привлекать на 30% больше пользователей</td>\n",
       "      <td>3</td>\n",
       "      <td>10</td>\n",
       "      <td>8</td>\n",
       "      <td>6</td>\n",
       "      <td>13.33</td>\n",
       "      <td>40.0</td>\n",
       "    </tr>\n",
       "    <tr>\n",
       "      <th>6</th>\n",
       "      <td>Показать на главной странице баннеры с актуальными акциями и распродажами, чтобы увеличить конве...</td>\n",
       "      <td>5</td>\n",
       "      <td>3</td>\n",
       "      <td>8</td>\n",
       "      <td>3</td>\n",
       "      <td>8.00</td>\n",
       "      <td>40.0</td>\n",
       "    </tr>\n",
       "    <tr>\n",
       "      <th>8</th>\n",
       "      <td>Запустить акцию, дающую скидку на товар в день рождения</td>\n",
       "      <td>1</td>\n",
       "      <td>9</td>\n",
       "      <td>9</td>\n",
       "      <td>5</td>\n",
       "      <td>16.20</td>\n",
       "      <td>16.2</td>\n",
       "    </tr>\n",
       "    <tr>\n",
       "      <th>3</th>\n",
       "      <td>Изменить структура категорий, что увеличит конверсию, т.к. пользователи быстрее найдут нужный товар</td>\n",
       "      <td>8</td>\n",
       "      <td>3</td>\n",
       "      <td>3</td>\n",
       "      <td>8</td>\n",
       "      <td>1.12</td>\n",
       "      <td>9.0</td>\n",
       "    </tr>\n",
       "    <tr>\n",
       "      <th>1</th>\n",
       "      <td>Запустить собственную службу доставки, что сократит срок доставки заказов</td>\n",
       "      <td>2</td>\n",
       "      <td>5</td>\n",
       "      <td>4</td>\n",
       "      <td>10</td>\n",
       "      <td>2.00</td>\n",
       "      <td>4.0</td>\n",
       "    </tr>\n",
       "    <tr>\n",
       "      <th>5</th>\n",
       "      <td>Добавить страницу отзывов клиентов о магазине, что позволит увеличить количество заказов</td>\n",
       "      <td>3</td>\n",
       "      <td>2</td>\n",
       "      <td>2</td>\n",
       "      <td>3</td>\n",
       "      <td>1.33</td>\n",
       "      <td>4.0</td>\n",
       "    </tr>\n",
       "    <tr>\n",
       "      <th>4</th>\n",
       "      <td>Изменить цвет фона главной страницы, чтобы увеличить вовлеченность пользователей</td>\n",
       "      <td>3</td>\n",
       "      <td>1</td>\n",
       "      <td>1</td>\n",
       "      <td>1</td>\n",
       "      <td>1.00</td>\n",
       "      <td>3.0</td>\n",
       "    </tr>\n",
       "  </tbody>\n",
       "</table>\n",
       "</div>"
      ],
      "text/plain": [
       "                                                                                            hypothesis  \\\n",
       "7     Добавить форму подписки на все основные страницы, чтобы собрать базу клиентов для email-рассылок   \n",
       "2  Добавить блоки рекомендаций товаров на сайт интернет магазина, чтобы повысить конверсию и средни...   \n",
       "0   Добавить два новых канала привлечения трафика, что позволит привлекать на 30% больше пользователей   \n",
       "6  Показать на главной странице баннеры с актуальными акциями и распродажами, чтобы увеличить конве...   \n",
       "8                                              Запустить акцию, дающую скидку на товар в день рождения   \n",
       "3  Изменить структура категорий, что увеличит конверсию, т.к. пользователи быстрее найдут нужный товар   \n",
       "1                            Запустить собственную службу доставки, что сократит срок доставки заказов   \n",
       "5             Добавить страницу отзывов клиентов о магазине, что позволит увеличить количество заказов   \n",
       "4                     Изменить цвет фона главной страницы, чтобы увеличить вовлеченность пользователей   \n",
       "\n",
       "   reach  impact  confidence  efforts    ice   rice  \n",
       "7     10       7           8        5  11.20  112.0  \n",
       "2      8       3           7        3   7.00   56.0  \n",
       "0      3      10           8        6  13.33   40.0  \n",
       "6      5       3           8        3   8.00   40.0  \n",
       "8      1       9           9        5  16.20   16.2  \n",
       "3      8       3           3        8   1.12    9.0  \n",
       "1      2       5           4       10   2.00    4.0  \n",
       "5      3       2           2        3   1.33    4.0  \n",
       "4      3       1           1        1   1.00    3.0  "
      ]
     },
     "metadata": {},
     "output_type": "display_data"
    }
   ],
   "source": [
    "hypothesis['ice'] = round(hypothesis['impact']*hypothesis['confidence']/hypothesis['efforts'],2)\n",
    "hypothesis = hypothesis.sort_values(by='ice',ascending=False)\n",
    "display(hypothesis.head(10))\n",
    "hypothesis['rice'] = hypothesis['reach']*hypothesis['impact']*hypothesis['confidence']/hypothesis['efforts']\n",
    "hypothesis = hypothesis.sort_values(by='rice',ascending=False)\n",
    "display(hypothesis.head(10))"
   ]
  },
  {
   "cell_type": "markdown",
   "id": "0759d402",
   "metadata": {},
   "source": [
    "Промежуточный вывод: таблицы с оценками \"ICE\" и \"RICE\" построены. При сортировке по оценке \"ICE\" в ТОП-3 попадают гипотезы № 8, 0, 7, а по оценке \"RICE\" в ТОП-3 попадают гипотезы № 7, 2, 0. Основное различие между показателями оценки в использовании множителя \"Reach\" - предполагаемом количестве пользователей, которых затронут описываемые нововведения. Для полноценной приоритезации гипотез вариант \"RICH\" является предпочтительным, так как корректирует деятельность в направлении, где имеется больший охват аудитории.\n"
   ]
  },
  {
   "cell_type": "markdown",
   "id": "074e3e5c",
   "metadata": {},
   "source": [
    "## Анализ A/B теста\n",
    "### Знакомство с данными"
   ]
  },
  {
   "cell_type": "markdown",
   "id": "4ef22477",
   "metadata": {},
   "source": [
    "Перед началом работы по анализу А/В теста познакомимся с данными:\n",
    "* определим, сведения о каких группах содержатся в имеющихся данных:"
   ]
  },
  {
   "cell_type": "code",
   "execution_count": 11,
   "id": "566e3c06",
   "metadata": {},
   "outputs": [
    {
     "name": "stdout",
     "output_type": "stream",
     "text": [
      "orders[group]: ['B' 'A']\n",
      "visitors[group]: ['A' 'B']\n"
     ]
    }
   ],
   "source": [
    "print('orders[group]:',orders['group'].unique())\n",
    "print('visitors[group]:',visitors['group'].unique())"
   ]
  },
  {
   "cell_type": "markdown",
   "id": "6c64079a",
   "metadata": {},
   "source": [
    "Промежуточный вывод: групп всего две - А и В.\n",
    "Определим, сведения о каком временном диапазоне содержатся в имеющихся данных:    "
   ]
  },
  {
   "cell_type": "code",
   "execution_count": 13,
   "id": "de0bb84d",
   "metadata": {},
   "outputs": [
    {
     "name": "stdout",
     "output_type": "stream",
     "text": [
      "orders[date]: 2019-08-01 00:00:00  -  2019-08-31 00:00:00\n",
      "visitors[date]: 2019-08-01 00:00:00  -  2019-08-31 00:00:00\n"
     ]
    }
   ],
   "source": [
    "print('orders[date]:',orders['date'].min(),' - ',orders['date'].max())\n",
    "print('visitors[date]:',visitors['date'].min(),' - ',visitors['date'].max())"
   ]
  },
  {
   "cell_type": "markdown",
   "id": "0c40e831",
   "metadata": {},
   "source": [
    "Промежуточный вывод: в обоих файлах зафиксированы события с 01 по 31 августа 2019 года. \n",
    "Определим, есть ли пользователи, которые зачислены в обе группы А и В:"
   ]
  },
  {
   "cell_type": "code",
   "execution_count": 14,
   "id": "1b4db251",
   "metadata": {},
   "outputs": [
    {
     "name": "stdout",
     "output_type": "stream",
     "text": [
      "Количество пользователей, которые присутствуют одновременно в группах А и В, чел: 58\n"
     ]
    }
   ],
   "source": [
    "user_A = orders[orders['group']=='A'][['visitor_id','group']].drop_duplicates().set_index('visitor_id')\n",
    "user_A.columns=['group_A']\n",
    "user_B = orders[orders['group']=='B'][['visitor_id','group']].drop_duplicates().set_index('visitor_id')\n",
    "user_B.columns=['group_B']\n",
    "coincidence = user_A.join(user_B).dropna(subset=['group_A','group_B'])\n",
    "print('Количество пользователей, которые присутствуют одновременно в группах А и В, чел:',len(coincidence))"
   ]
  },
  {
   "cell_type": "markdown",
   "id": "9ff8a011",
   "metadata": {},
   "source": [
    "Удалим проблемных пользователей из датафреймов:"
   ]
  },
  {
   "cell_type": "code",
   "execution_count": 15,
   "id": "d0f8df85",
   "metadata": {},
   "outputs": [
    {
     "name": "stdout",
     "output_type": "stream",
     "text": [
      "Количество пользователей, которые присутствуют одновременно в группах А и В, чел: 0\n"
     ]
    }
   ],
   "source": [
    "peremennaya_coincidence = coincidence.reset_index()['visitor_id']\n",
    "orders = orders.query('visitor_id not in @peremennaya_coincidence')\n",
    "\n",
    "user_A = orders[orders['group']=='A'][['visitor_id','group']].drop_duplicates().set_index('visitor_id')\n",
    "user_A.columns=['group_A']\n",
    "user_B = orders[orders['group']=='B'][['visitor_id','group']].drop_duplicates().set_index('visitor_id')\n",
    "user_B.columns=['group_B']\n",
    "coincidence = user_A.join(user_B).dropna(subset=['group_A','group_B'])\n",
    "print('Количество пользователей, которые присутствуют одновременно в группах А и В, чел:',len(coincidence))"
   ]
  },
  {
   "cell_type": "markdown",
   "id": "dc552df0",
   "metadata": {},
   "source": [
    "### Определение 95 и 99-й перцентили \n",
    "#### Количество заказов на пользователя"
   ]
  },
  {
   "cell_type": "code",
   "execution_count": 16,
   "id": "98805625",
   "metadata": {},
   "outputs": [
    {
     "data": {
      "text/plain": [
       "array([1., 2.])"
      ]
     },
     "execution_count": 16,
     "metadata": {},
     "output_type": "execute_result"
    }
   ],
   "source": [
    "count_order = orders.groupby('visitor_id').agg({'revenue':'count'})\n",
    "count_order = count_order.reset_index().drop('visitor_id',axis=1)          # Добавлено\n",
    "\n",
    "count_order.columns =['count']\n",
    "\n",
    "np.percentile(count_order['count'], [95, 99])"
   ]
  },
  {
   "cell_type": "markdown",
   "id": "cb41ef1b",
   "metadata": {},
   "source": [
    "Промежуточный вывод: не более 5% пользователей делают больше 1 заказа, и не более 1% больше 2 заказов.\n",
    "\n",
    "Границу для определения аномальных пользователей по количеству заказов можно принять на уровне 95 перцентили (2 и более заказов.) "
   ]
  },
  {
   "cell_type": "markdown",
   "id": "8ab4f392",
   "metadata": {},
   "source": [
    "#### Стоимость заказов"
   ]
  },
  {
   "cell_type": "code",
   "execution_count": 17,
   "id": "d2cfc65a",
   "metadata": {},
   "outputs": [
    {
     "data": {
      "text/plain": [
       "array([26785., 30649., 34792., 42353., 53904.])"
      ]
     },
     "execution_count": 17,
     "metadata": {},
     "output_type": "execute_result"
    }
   ],
   "source": [
    "np.percentile(orders['revenue'], [95, 96, 97, 98, 99])"
   ]
  },
  {
   "cell_type": "markdown",
   "id": "e4e0d304",
   "metadata": {},
   "source": [
    "Промежуточный вывод: не более 5% заказов имеют стоимость более 26785 единиц, и не более 1% заказов имеет стоимость более 53904 единиц.\n",
    "\n",
    "Границу для определения аномальных пользователей по высокой стоимости можно принять на уровне 95 перцентили (26785)."
   ]
  },
  {
   "cell_type": "markdown",
   "id": "a64e3d4e",
   "metadata": {},
   "source": [
    "### Форматирование данных\n",
    "#### Кумулятивные данные"
   ]
  },
  {
   "cell_type": "code",
   "execution_count": 18,
   "id": "2bbb0ee3",
   "metadata": {},
   "outputs": [
    {
     "data": {
      "text/html": [
       "<div>\n",
       "<style scoped>\n",
       "    .dataframe tbody tr th:only-of-type {\n",
       "        vertical-align: middle;\n",
       "    }\n",
       "\n",
       "    .dataframe tbody tr th {\n",
       "        vertical-align: top;\n",
       "    }\n",
       "\n",
       "    .dataframe thead th {\n",
       "        text-align: right;\n",
       "    }\n",
       "</style>\n",
       "<table border=\"1\" class=\"dataframe\">\n",
       "  <thead>\n",
       "    <tr style=\"text-align: right;\">\n",
       "      <th></th>\n",
       "      <th>date</th>\n",
       "      <th>group</th>\n",
       "      <th>orders</th>\n",
       "      <th>revenue</th>\n",
       "      <th>visitors</th>\n",
       "    </tr>\n",
       "  </thead>\n",
       "  <tbody>\n",
       "    <tr>\n",
       "      <th>0</th>\n",
       "      <td>2019-08-01</td>\n",
       "      <td>A</td>\n",
       "      <td>19</td>\n",
       "      <td>142779</td>\n",
       "      <td>719</td>\n",
       "    </tr>\n",
       "    <tr>\n",
       "      <th>1</th>\n",
       "      <td>2019-08-01</td>\n",
       "      <td>B</td>\n",
       "      <td>17</td>\n",
       "      <td>59758</td>\n",
       "      <td>713</td>\n",
       "    </tr>\n",
       "    <tr>\n",
       "      <th>2</th>\n",
       "      <td>2019-08-02</td>\n",
       "      <td>A</td>\n",
       "      <td>36</td>\n",
       "      <td>234381</td>\n",
       "      <td>1338</td>\n",
       "    </tr>\n",
       "    <tr>\n",
       "      <th>3</th>\n",
       "      <td>2019-08-02</td>\n",
       "      <td>B</td>\n",
       "      <td>39</td>\n",
       "      <td>221801</td>\n",
       "      <td>1294</td>\n",
       "    </tr>\n",
       "    <tr>\n",
       "      <th>4</th>\n",
       "      <td>2019-08-03</td>\n",
       "      <td>A</td>\n",
       "      <td>60</td>\n",
       "      <td>346854</td>\n",
       "      <td>1845</td>\n",
       "    </tr>\n",
       "  </tbody>\n",
       "</table>\n",
       "</div>"
      ],
      "text/plain": [
       "        date group  orders  revenue  visitors\n",
       "0 2019-08-01     A      19   142779       719\n",
       "1 2019-08-01     B      17    59758       713\n",
       "2 2019-08-02     A      36   234381      1338\n",
       "3 2019-08-02     B      39   221801      1294\n",
       "4 2019-08-03     A      60   346854      1845"
      ]
     },
     "metadata": {},
     "output_type": "display_data"
    }
   ],
   "source": [
    "# создаем массив уникальных пар значений дат и групп теста\n",
    "datesGroups = orders[['date','group']].drop_duplicates() \n",
    "#display(datesGroups.head(5))\n",
    "\n",
    "# Соберём агрегированные кумулятивные по дням данные о заказах в несколько действий.\n",
    "# Получим строки таблицы orders, дата которых меньше или равна дате элемента из datesGroups,\n",
    "# а группа теста равна группе из datesGroups:\n",
    "\n",
    "ordersAggregated = datesGroups.apply(lambda x: orders[np.logical_and(orders['date'] <= x['date'], orders['group'] == x['group'])]\\\n",
    ".agg({'date' : 'max', 'group' : 'max', 'visitor_id' : 'nunique', 'revenue' : 'sum'}), axis=1).sort_values(by=['date','group'])\n",
    "#display(ordersAggregated.head(5))\n",
    "\n",
    "# Аналогично получим агрегированные кумулятивные по дням данные о посетителях интернет-магазина: \n",
    "visitorsAggregated = datesGroups.apply(lambda x: visitors[np.logical_and(visitors['date'] <= x['date'], visitors['group'] == x['group'])].agg({'date' : 'max', 'group' : 'max', 'visitors' : 'sum'}), axis=1).sort_values(by=['date','group']) \n",
    "#display(visitorsAggregated.head(5))\n",
    "\n",
    "# объединяем кумулятивные данные в одной таблице и присваиваем ее столбцам понятные названия\n",
    "cumulativeData = ordersAggregated.merge(visitorsAggregated, left_on=['date', 'group'], right_on=['date', 'group'])\n",
    "cumulativeData.columns = ['date', 'group', 'orders', 'revenue', 'visitors']\n",
    "display(cumulativeData.head(5)) "
   ]
  },
  {
   "cell_type": "markdown",
   "id": "113d424b",
   "metadata": {},
   "source": [
    "####  Очистка (фильтрация) данных"
   ]
  },
  {
   "cell_type": "code",
   "execution_count": 19,
   "id": "ffca8ff8",
   "metadata": {},
   "outputs": [
    {
     "data": {
      "text/plain": [
       "568     113298937\n",
       "1099    148427295\n",
       "928     204675465\n",
       "33      249864742\n",
       "684     358944393\n",
       "Name: visitor_id, dtype: int64"
      ]
     },
     "metadata": {},
     "output_type": "display_data"
    },
    {
     "data": {
      "text/plain": [
       "86"
      ]
     },
     "metadata": {},
     "output_type": "display_data"
    }
   ],
   "source": [
    "ordersByUsersA = (\n",
    "    orders[orders['group'] == 'A']\n",
    "    .groupby('visitor_id', as_index=False)\n",
    "    .agg({'transaction_id': pd.Series.nunique})\n",
    ")\n",
    "ordersByUsersA.columns = ['visitor_id', 'orders']\n",
    "\n",
    "ordersByUsersB = (\n",
    "    orders[orders['group'] == 'B']\n",
    "    .groupby('visitor_id', as_index=False)\n",
    "    .agg({'transaction_id': pd.Series.nunique})\n",
    ")\n",
    "ordersByUsersB.columns = ['visitor_id', 'orders'] \n",
    "\n",
    "\n",
    "usersWithManyOrders = pd.concat(\n",
    "    [\n",
    "        ordersByUsersA[ordersByUsersA['orders'] > np.percentile(count_order['count'], 95)]['visitor_id'],\n",
    "        ordersByUsersB[ordersByUsersB['orders'] > np.percentile(count_order['count'], 95)]['visitor_id'],\n",
    "    ],\n",
    "    axis=0,\n",
    ")\n",
    "usersWithExpensiveOrders = orders[orders['revenue'] > np.percentile(orders['revenue'], 95)]['visitor_id']\n",
    "\n",
    "abnormalUsers = (\n",
    "    pd.concat([usersWithManyOrders, usersWithExpensiveOrders], axis=0)\n",
    "    .drop_duplicates()\n",
    "    .sort_values()\n",
    ")\n",
    "display(abnormalUsers.head(5))\n",
    "display(abnormalUsers.shape[0]) "
   ]
  },
  {
   "cell_type": "markdown",
   "id": "29ce6e3d",
   "metadata": {},
   "source": [
    "Итого получилось 86 аномальных пользователей. "
   ]
  },
  {
   "cell_type": "markdown",
   "id": "138a10b7",
   "metadata": {},
   "source": [
    "#### Кумулятивные данные c учетом фильтрации"
   ]
  },
  {
   "cell_type": "code",
   "execution_count": 21,
   "id": "de5f45e3",
   "metadata": {},
   "outputs": [
    {
     "data": {
      "text/html": [
       "<div>\n",
       "<style scoped>\n",
       "    .dataframe tbody tr th:only-of-type {\n",
       "        vertical-align: middle;\n",
       "    }\n",
       "\n",
       "    .dataframe tbody tr th {\n",
       "        vertical-align: top;\n",
       "    }\n",
       "\n",
       "    .dataframe thead th {\n",
       "        text-align: right;\n",
       "    }\n",
       "</style>\n",
       "<table border=\"1\" class=\"dataframe\">\n",
       "  <thead>\n",
       "    <tr style=\"text-align: right;\">\n",
       "      <th></th>\n",
       "      <th>date</th>\n",
       "      <th>group</th>\n",
       "      <th>visitor_id</th>\n",
       "      <th>revenue</th>\n",
       "    </tr>\n",
       "  </thead>\n",
       "  <tbody>\n",
       "    <tr>\n",
       "      <th>55</th>\n",
       "      <td>2019-08-01</td>\n",
       "      <td>A</td>\n",
       "      <td>19</td>\n",
       "      <td>142779</td>\n",
       "    </tr>\n",
       "    <tr>\n",
       "      <th>66</th>\n",
       "      <td>2019-08-01</td>\n",
       "      <td>B</td>\n",
       "      <td>17</td>\n",
       "      <td>59758</td>\n",
       "    </tr>\n",
       "    <tr>\n",
       "      <th>175</th>\n",
       "      <td>2019-08-02</td>\n",
       "      <td>A</td>\n",
       "      <td>36</td>\n",
       "      <td>234381</td>\n",
       "    </tr>\n",
       "    <tr>\n",
       "      <th>173</th>\n",
       "      <td>2019-08-02</td>\n",
       "      <td>B</td>\n",
       "      <td>39</td>\n",
       "      <td>221801</td>\n",
       "    </tr>\n",
       "    <tr>\n",
       "      <th>291</th>\n",
       "      <td>2019-08-03</td>\n",
       "      <td>A</td>\n",
       "      <td>60</td>\n",
       "      <td>346854</td>\n",
       "    </tr>\n",
       "  </tbody>\n",
       "</table>\n",
       "</div>"
      ],
      "text/plain": [
       "          date group  visitor_id  revenue\n",
       "55  2019-08-01     A          19   142779\n",
       "66  2019-08-01     B          17    59758\n",
       "175 2019-08-02     A          36   234381\n",
       "173 2019-08-02     B          39   221801\n",
       "291 2019-08-03     A          60   346854"
      ]
     },
     "metadata": {},
     "output_type": "display_data"
    },
    {
     "data": {
      "text/html": [
       "<div>\n",
       "<style scoped>\n",
       "    .dataframe tbody tr th:only-of-type {\n",
       "        vertical-align: middle;\n",
       "    }\n",
       "\n",
       "    .dataframe tbody tr th {\n",
       "        vertical-align: top;\n",
       "    }\n",
       "\n",
       "    .dataframe thead th {\n",
       "        text-align: right;\n",
       "    }\n",
       "</style>\n",
       "<table border=\"1\" class=\"dataframe\">\n",
       "  <thead>\n",
       "    <tr style=\"text-align: right;\">\n",
       "      <th></th>\n",
       "      <th>date</th>\n",
       "      <th>group</th>\n",
       "      <th>orders</th>\n",
       "      <th>revenue</th>\n",
       "      <th>visitors</th>\n",
       "    </tr>\n",
       "  </thead>\n",
       "  <tbody>\n",
       "    <tr>\n",
       "      <th>0</th>\n",
       "      <td>2019-08-01</td>\n",
       "      <td>A</td>\n",
       "      <td>13</td>\n",
       "      <td>31869</td>\n",
       "      <td>719</td>\n",
       "    </tr>\n",
       "    <tr>\n",
       "      <th>1</th>\n",
       "      <td>2019-08-01</td>\n",
       "      <td>B</td>\n",
       "      <td>17</td>\n",
       "      <td>59758</td>\n",
       "      <td>713</td>\n",
       "    </tr>\n",
       "    <tr>\n",
       "      <th>2</th>\n",
       "      <td>2019-08-02</td>\n",
       "      <td>A</td>\n",
       "      <td>28</td>\n",
       "      <td>78352</td>\n",
       "      <td>1338</td>\n",
       "    </tr>\n",
       "    <tr>\n",
       "      <th>3</th>\n",
       "      <td>2019-08-02</td>\n",
       "      <td>B</td>\n",
       "      <td>35</td>\n",
       "      <td>144622</td>\n",
       "      <td>1294</td>\n",
       "    </tr>\n",
       "    <tr>\n",
       "      <th>4</th>\n",
       "      <td>2019-08-03</td>\n",
       "      <td>A</td>\n",
       "      <td>52</td>\n",
       "      <td>190825</td>\n",
       "      <td>1845</td>\n",
       "    </tr>\n",
       "  </tbody>\n",
       "</table>\n",
       "</div>"
      ],
      "text/plain": [
       "        date group  orders  revenue  visitors\n",
       "0 2019-08-01     A      13    31869       719\n",
       "1 2019-08-01     B      17    59758       713\n",
       "2 2019-08-02     A      28    78352      1338\n",
       "3 2019-08-02     B      35   144622      1294\n",
       "4 2019-08-03     A      52   190825      1845"
      ]
     },
     "metadata": {},
     "output_type": "display_data"
    }
   ],
   "source": [
    "abnormalUsers_ = abnormalUsers.reset_index()\n",
    "peremennaya = abnormalUsers_['visitor_id']\n",
    "orders_filter = orders.query('visitor_id not in @peremennaya')\n",
    "\n",
    "# Соберём агрегированные кумулятивные по дням данные о заказах в несколько действий.\n",
    "# Получим строки таблицы orders, дата которых меньше или равна дате элемента из datesGroups,\n",
    "# а группа теста равна группе из datesGroups:\n",
    "\n",
    "ordersAggregated_filter = datesGroups.apply(lambda x: orders_filter[np.logical_and(orders_filter['date'] <= x['date'], \n",
    "                                             orders_filter['group'] == x['group'])]\n",
    "                                            .agg({'date' : 'max', 'group' : 'max', 'visitor_id' : 'nunique', 'revenue' : 'sum'}), axis=1).sort_values(by=['date','group'])\n",
    "display(ordersAggregated.head(5))\n",
    "\n",
    "# Аналогично получим агрегированные кумулятивные по дням данные о посетителях интернет-магазина: \n",
    "#visitorsAggregated = datesGroups.apply(lambda x: visitors[np.logical_and(visitors['date'] <= x['date'], visitors['group'] == x['group'])].agg({'date' : 'max', 'group' : 'max', 'visitors' : 'sum'}), axis=1).sort_values(by=['date','group']) \n",
    "#display(visitorsAggregated.head(5))\n",
    "\n",
    "# объединяем кумулятивные данные в одной таблице и присваиваем ее столбцам понятные названия\n",
    "cumulativeData_filter = ordersAggregated_filter.merge(visitorsAggregated, left_on=['date', 'group'], right_on=['date', 'group'])\n",
    "cumulativeData_filter.columns = ['date', 'group', 'orders', 'revenue', 'visitors']\n",
    "display(cumulativeData_filter.head(5))                                                    \n",
    "                                                             "
   ]
  },
  {
   "cell_type": "markdown",
   "id": "8ef184dd",
   "metadata": {},
   "source": [
    "### Построение графиков\n",
    "#### Кумулятивная выручка по группам"
   ]
  },
  {
   "cell_type": "code",
   "execution_count": 22,
   "id": "cc731858",
   "metadata": {},
   "outputs": [
    {
     "data": {
      "image/png": "[encoded data removed]",
      "text/plain": [
       "<Figure size 720x360 with 1 Axes>"
      ]
     },
     "metadata": {
      "needs_background": "light"
     },
     "output_type": "display_data"
    }
   ],
   "source": [
    "# датафрейм с кумулятивным количеством заказов и кумулятивной выручкой по дням по группам\n",
    "cumulativeRevenueA_filter = cumulativeData_filter[cumulativeData_filter['group']=='A'][['date','revenue', 'orders']]\n",
    "cumulativeRevenueB_filter = cumulativeData_filter[cumulativeData_filter['group']=='B'][['date','revenue', 'orders']]\n",
    "\n",
    "ax=cumulativeRevenueA_filter.plot(x='date',y='revenue',label='Выручка по группе A',color='b')\n",
    "cumulativeRevenueB_filter.plot(x='date',y='revenue',label='Выручка по группе B',color='r',ax=ax, grid=True,figsize=(10,5))\n",
    "plt.title(\"Кумулятивная выручка по группам\")\n",
    "plt.xlabel(\"Дни\")\n",
    "plt.ylabel(\"Выручка, млн\")  \n",
    "plt.show()"
   ]
  },
  {
   "cell_type": "markdown",
   "id": "ec1b9db5",
   "metadata": {},
   "source": [
    "Промежуточный вывод: на графике по очищенным данным от аномальных пользователей наблюдается стабильное превышение кумулятивной выручки по группе B."
   ]
  },
  {
   "cell_type": "markdown",
   "id": "1cc74ef6",
   "metadata": {},
   "source": [
    "#### Кумулятивное количество заказов по группам"
   ]
  },
  {
   "cell_type": "code",
   "execution_count": 25,
   "id": "ba392c98",
   "metadata": {},
   "outputs": [],
   "source": [
    "cumulativeRevenueA = cumulativeData[cumulativeData['group']=='A'][['date','revenue', 'orders']]\n",
    "cumulativeRevenueB = cumulativeData[cumulativeData['group']=='B'][['date','revenue', 'orders']]"
   ]
  },
  {
   "cell_type": "code",
   "execution_count": 24,
   "id": "31d2e19c",
   "metadata": {},
   "outputs": [
    {
     "data": {
      "image/png": "[encoded data removed]",
      "text/plain": [
       "<Figure size 720x360 with 1 Axes>"
      ]
     },
     "metadata": {
      "needs_background": "light"
     },
     "output_type": "display_data"
    }
   ],
   "source": [
    "ax=cumulativeRevenueA.plot(x='date',y='orders',label='Количество по группе A',color='b')\n",
    "cumulativeRevenueB.plot(x='date',y='orders',label='Количество по группе B',color='r',ax=ax, grid=True,figsize=(10,5))\n",
    "plt.title(\"Кумулятивное количество заказов по группам\")\n",
    "plt.xlabel(\"Дни\")\n",
    "plt.ylabel(\"Количество, шт\")  \n",
    "plt.show()"
   ]
  },
  {
   "cell_type": "markdown",
   "id": "5808cc3a",
   "metadata": {},
   "source": [
    "Промежуточный вывод: с пятого августа линии разделяются, после чего количество заказов от пользователей группы В становится значительно больше количества заказов от пользователей группы А."
   ]
  },
  {
   "cell_type": "markdown",
   "id": "3d8cecfa",
   "metadata": {},
   "source": [
    "####  Кумулятивный средний чек по группам"
   ]
  },
  {
   "cell_type": "code",
   "execution_count": 26,
   "id": "b2d951f2",
   "metadata": {},
   "outputs": [
    {
     "data": {
      "image/png": "[encoded data removed]",
      "text/plain": [
       "<Figure size 720x360 with 1 Axes>"
      ]
     },
     "metadata": {
      "needs_background": "light"
     },
     "output_type": "display_data"
    }
   ],
   "source": [
    "cumulativeRevenueA_filter['k_A'] = cumulativeRevenueA_filter['revenue']/cumulativeRevenueA_filter['orders']\n",
    "cumulativeRevenueB_filter['k_B'] = cumulativeRevenueB_filter['revenue']/cumulativeRevenueB_filter['orders']\n",
    "ax=cumulativeRevenueA_filter.plot(x='date',y='k_A',label='Выручка по группе A',color='b')\n",
    "cumulativeRevenueB_filter.plot(x='date',y='k_B',label='Выручка по группе B',color='r',ax=ax, grid=True,figsize=(10,5))\n",
    "plt.title(\"Кумулятивный средний чек по группам\")\n",
    "plt.xlabel(\"Дни\")\n",
    "plt.ylabel(\"Выручка среднего чека\")  \n",
    "plt.show()"
   ]
  },
  {
   "cell_type": "markdown",
   "id": "f4061fc2",
   "metadata": {},
   "source": [
    "Промежуточный вывод: по графику с учетом очистки данных от аномальных пользователей можно сказать, что нет оснований считать о наличии существенной разницы среднего чека между группами."
   ]
  },
  {
   "cell_type": "markdown",
   "id": "1ce9ca9a",
   "metadata": {},
   "source": [
    "#### Относительное изменение кумулятивного среднего чека группы В к группе А"
   ]
  },
  {
   "cell_type": "code",
   "execution_count": 27,
   "id": "fa70a0f8",
   "metadata": {},
   "outputs": [
    {
     "data": {
      "image/png": "[encoded data removed]",
      "text/plain": [
       "<Figure size 720x360 with 1 Axes>"
      ]
     },
     "metadata": {
      "needs_background": "light"
     },
     "output_type": "display_data"
    }
   ],
   "source": [
    "# собираем данные в одном датафрейме\n",
    "mergedCumulativeRevenue_filter = cumulativeRevenueA_filter.merge(cumulativeRevenueB_filter, left_on='date', right_on='date', how='left', suffixes=['A', 'B'])\n",
    "mergedCumulativeRevenue_filter['k'] = mergedCumulativeRevenue_filter['k_B']/mergedCumulativeRevenue_filter['k_A'] - 1\n",
    "mergedCumulativeRevenue_filter.plot(x='date',y='k',color='b',grid=True,figsize=(10,5))\n",
    "plt.title(\"Относительное изменение кумулятивного среднего чека группы В к группе А\")\n",
    "plt.xlabel(\"Дни\")\n",
    "plt.ylabel(\"Соотношение\")\n",
    "plt.axhline(y=0, color='black', linestyle='--') \n",
    "plt.show()"
   ]
  },
  {
   "cell_type": "markdown",
   "id": "68ad2e4d",
   "metadata": {},
   "source": [
    "Промежуточный вывод: по графику после фильтрации данных от аномальных пользователей можно сказать, что разница среднего чека стремится к нулю."
   ]
  },
  {
   "cell_type": "markdown",
   "id": "54977f15",
   "metadata": {},
   "source": [
    "#### Кумулятивная конверсия по группам"
   ]
  },
  {
   "cell_type": "code",
   "execution_count": 29,
   "id": "9310f283",
   "metadata": {},
   "outputs": [
    {
     "data": {
      "image/png": "[encoded data removed]",
      "text/plain": [
       "<Figure size 720x360 with 1 Axes>"
      ]
     },
     "metadata": {
      "needs_background": "light"
     },
     "output_type": "display_data"
    }
   ],
   "source": [
    "# считаем кумулятивную конверсию\n",
    "cumulativeData['conversion'] = cumulativeData['orders']/cumulativeData['visitors']\n",
    "\n",
    "# отделяем данные по группе A\n",
    "cumulativeDataA = cumulativeData[cumulativeData['group']=='A']\n",
    "\n",
    "# отделяем данные по группе B\n",
    "cumulativeDataB = cumulativeData[cumulativeData['group']=='B']\n",
    "\n",
    "# строим графики\n",
    "ax=cumulativeDataA.plot(x='date',y='conversion',label='По группе A',color='b')\n",
    "cumulativeDataB.plot(x='date',y='conversion',label='По группе B',color='r',ax=ax, grid=True,figsize=(10,5))\n",
    "plt.title(\"Кумулятивная конверсия по группам\")\n",
    "plt.xlabel(\"Дни\")\n",
    "plt.ylabel(\"Конверсия\")  \n",
    "plt.show()"
   ]
  },
  {
   "cell_type": "markdown",
   "id": "9d7a4d58",
   "metadata": {},
   "source": [
    "Промежуточный вывод: В первые дни, до 5 августа конверсия по обоим группам похожая. 5 августа произошло какое-то событие, после чего кумулятивная конверсия по группе А зафиксировалась на сравнительно низком уровне около 0,024, а кумулятивная конверсия по группе В достигла пика 10 августа в размере 0,031, после чего стала снижаться, в конце наблюдения её значение составило 0,028. "
   ]
  },
  {
   "cell_type": "markdown",
   "id": "2db9019e",
   "metadata": {},
   "source": [
    "#### Относительное изменение кумулятивной конверсии группы В к группе А."
   ]
  },
  {
   "cell_type": "code",
   "execution_count": 31,
   "id": "138a2056",
   "metadata": {},
   "outputs": [
    {
     "data": {
      "image/png": "[encoded data removed]",
      "text/plain": [
       "<Figure size 720x360 with 1 Axes>"
      ]
     },
     "metadata": {
      "needs_background": "light"
     },
     "output_type": "display_data"
    }
   ],
   "source": [
    "mergedCumulativeConversions = cumulativeDataA[['date','conversion']].merge(cumulativeDataB[['date','conversion']], left_on='date', right_on='date', how='left', suffixes=['A', 'B'])\n",
    "\n",
    "mergedCumulativeConversions['k_conv'] = mergedCumulativeConversions['conversionB']/mergedCumulativeConversions['conversionA']-1\n",
    "mergedCumulativeConversions.plot(x='date',y='k_conv',color='b',grid=True,figsize=(10,5))\n",
    "plt.title(\"Относительное изменение кумулятивной конверсии группы В к группе А\")\n",
    "plt.xlabel(\"Дни\")\n",
    "plt.ylabel(\"Соотношение\")\n",
    "plt.axhline(y=0, color='black', linestyle='--') \n",
    "plt.axhline(y=0.15, color='red', linestyle='--') \n",
    "plt.show()"
   ]
  },
  {
   "cell_type": "markdown",
   "id": "305d5a84",
   "metadata": {},
   "source": [
    "Промежуточный вывод: после 5 августа соотношение кумулятивной конверсии группы В к группе А больше нуля, то есть кумулятивная конверсия по группе В больше аналогичного значения по группе А."
   ]
  },
  {
   "cell_type": "markdown",
   "id": "fe610c76",
   "metadata": {},
   "source": [
    "#### Точечный количества заказов по пользователям\n",
    "\n",
    "Для построения точечного графика сгруппируем заказы по пользователям:"
   ]
  },
  {
   "cell_type": "code",
   "execution_count": 32,
   "id": "eda73d5b",
   "metadata": {},
   "outputs": [
    {
     "name": "stdout",
     "output_type": "stream",
     "text": [
      "        user_id  orders\n",
      "908  3967698036       3\n",
      "55    249864742       3\n",
      "478  2108163459       3\n",
      "687  2988190573       3\n",
      "890  3908431265       3\n",
      "138   611059232       3\n",
      "632  2742574263       3\n",
      "157   678354126       2\n",
      "323  1404560065       2\n",
      "452  1985475298       2\n"
     ]
    }
   ],
   "source": [
    "ordersByUsers = orders.drop(['group', 'revenue', 'date'], axis=1).groupby(\n",
    "    'visitor_id', as_index=False).agg({'transaction_id' : pd.Series.nunique})\n",
    "\n",
    "ordersByUsers.columns = ['user_id','orders']\n",
    "print(ordersByUsers.sort_values(by='orders',ascending=False).head(10))"
   ]
  },
  {
   "cell_type": "code",
   "execution_count": 33,
   "id": "d16014a7",
   "metadata": {},
   "outputs": [
    {
     "data": {
      "image/png": "[encoded data removed]",
      "text/plain": [
       "<Figure size 720x360 with 1 Axes>"
      ]
     },
     "metadata": {
      "needs_background": "light"
     },
     "output_type": "display_data"
    }
   ],
   "source": [
    "count_order.plot(y='count',style='o',color='m',grid=True,figsize=(10,5),alpha=0.7)\n",
    "plt.title(\"Количество заказов по пользователям\")\n",
    "plt.xlabel(\"Количество покупателей\")\n",
    "plt.ylabel(\"Количество заказов, шт\")\n",
    "plt.show()"
   ]
  },
  {
   "cell_type": "markdown",
   "id": "a4deebae",
   "metadata": {},
   "source": [
    "Промежуточный вывод: большинство покупателей делают по одному заказу, незначительная часть - по два заказа и более."
   ]
  },
  {
   "cell_type": "markdown",
   "id": "f29d3126",
   "metadata": {},
   "source": [
    "#### Точечный график стоимости заказов"
   ]
  },
  {
   "cell_type": "code",
   "execution_count": 34,
   "id": "9bbac983",
   "metadata": {},
   "outputs": [
    {
     "data": {
      "image/png": "[encoded data removed]",
      "text/plain": [
       "<Figure size 720x360 with 1 Axes>"
      ]
     },
     "metadata": {
      "needs_background": "light"
     },
     "output_type": "display_data"
    },
    {
     "data": {
      "image/png": "[encoded data removed]",
      "text/plain": [
       "<Figure size 720x360 with 1 Axes>"
      ]
     },
     "metadata": {
      "needs_background": "light"
     },
     "output_type": "display_data"
    }
   ],
   "source": [
    "ax= orders[orders['group']=='A'].plot(y='revenue',style='o',color='b',label='По группе A',alpha=0.5)\n",
    "orders[orders['group']=='B'].plot(y='revenue',style='o',ax=ax,color='r',label='По группе B',grid=True,figsize=(10,5),alpha=0.5)\n",
    "plt.title(\"Выручка с заказов по пользователям различных групп\")\n",
    "plt.xlabel(\"Номер записи\")\n",
    "plt.ylabel(\"Стоимость, млн\")\n",
    "plt.show()\n",
    "\n",
    "ax= orders[orders['group']=='A'].plot(y='revenue',style='o',color='b',label='По группе A',alpha=0.5)\n",
    "orders[orders['group']=='B'].plot(y='revenue',style='o',ax=ax,color='r',label='По группе B',grid=True,ylim=(0,100000),figsize=(10,5),alpha=0.5)\n",
    "plt.title(\"Выручка с заказов по пользователям различных групп\")\n",
    "plt.xlabel(\"Номер записи\")\n",
    "plt.ylabel(\"Стоимость, шт\")\n",
    "plt.show()"
   ]
  },
  {
   "cell_type": "markdown",
   "id": "3f75b98c",
   "metadata": {},
   "source": [
    "Промежуточный вывод: на первом графике видны заказы с выручкой в размере 200 000 и более 1,2 млн, являющиеся выбросами. \n",
    "\n",
    "С ограничением по оси y видно, что большинство заказов имеет выручку до 10 000 единиц, небольшое количество от 20 до 50 тысяч, стоимость более 60 000 единичны и их можно считатать выбросами."
   ]
  },
  {
   "cell_type": "markdown",
   "id": "165fe269",
   "metadata": {},
   "source": [
    "### Определение статистической значимости \n",
    "#### Различия в конверсии между группами по \"сырым\" данным."
   ]
  },
  {
   "cell_type": "markdown",
   "id": "d9177760",
   "metadata": {},
   "source": [
    "Сформируем нулевую гипотезу: статистически значимых различий в конверсии между группами по \"сырым\" данным между группами нет (при p-value >= 0.05). \n",
    "\n",
    "Альтернативная гипотеза: статистически значимые различия в конверсии между группами по \"сырым\" данным есть (при p-value <0.05).\n",
    "Проверим это:"
   ]
  },
  {
   "cell_type": "code",
   "execution_count": 35,
   "id": "1def9660",
   "metadata": {},
   "outputs": [
    {
     "name": "stdout",
     "output_type": "stream",
     "text": [
      "p-value по равенству конверсии: 0.01102\n",
      "Относительное превышение средней конверсии по группе В: 0.160\n"
     ]
    }
   ],
   "source": [
    "# Создадим ordersA и ordersB  с данными о пользователях и количестве совершенных покупок\n",
    "ordersA = orders[orders['group']=='A'].groupby('visitor_id', as_index=False).agg({'transaction_id' : pd.Series.nunique})\n",
    "ordersA.columns = ['visitor_id', 'orders']\n",
    "\n",
    "ordersB = orders[orders['group']=='B'].groupby('visitor_id', as_index=False).agg({'transaction_id' : pd.Series.nunique})\n",
    "ordersB.columns = ['visitor_id', 'orders']\n",
    "\n",
    "# Добавляем записи с нулевым заказом в кол-ве, соответсвующем разнице между общим кол-вом посетителей и покупателей\n",
    "groupA = pd.concat([ordersA['orders'],pd.Series(0, index=np.arange(visitors[visitors['group']=='A']['visitors'].\n",
    "    sum() - len(ordersA['orders'])), name='orders')],axis=0)\n",
    "groupB = pd.concat([ordersB['orders'],pd.Series(0, index=np.arange(visitors[visitors['group']=='B']['visitors'].\n",
    "    sum() - len(ordersB['orders'])), name='orders')],axis=0)  \n",
    "\n",
    "# передаем массивы в методы \n",
    "print(\"p-value по равенству конверсии: {0:.5f}\".format(st.mannwhitneyu(groupA, groupB)[1]))\n",
    "print(\"Относительное превышение средней конверсии по группе В: {0:.3f}\".format(groupB.mean()/groupA.mean()-1))"
   ]
  },
  {
   "cell_type": "markdown",
   "id": "b817c760",
   "metadata": {},
   "source": [
    "P-value по равенству конверсии меньше 0.05. Значит, отвергаем нулевую гипотезу о том, что статически значимых различий в конверсии между группами нет.\n",
    "\n",
    "Cредняя конверсия группы B выше (на 16 %) конверсии по группе A."
   ]
  },
  {
   "cell_type": "markdown",
   "id": "3238abc0",
   "metadata": {},
   "source": [
    "####  Различия в конверсии между группами по \"очищенным\" данным.\n",
    "Сформируем нулевую гипотезу: статистически значимых различий в конверсии между группами по \"сырым\" данным между группами нет (при p-value >= 0.05). Альтернативная гипотеза: статистически значимые различия в конверсии между группами по \"сырым\" данным есть (при p-value <0.05). "
   ]
  },
  {
   "cell_type": "code",
   "execution_count": 39,
   "id": "6930f969",
   "metadata": {},
   "outputs": [
    {
     "name": "stdout",
     "output_type": "stream",
     "text": [
      "p-value по равенству конверсии: 0.01620\n",
      "Относительное превышение средней конверсии по группе В: 0.173\n"
     ]
    }
   ],
   "source": [
    "# Создадим ordersA и ordersB  с данными о пользователях и количестве совершенных покупок\n",
    "ordersA_filter = orders_filter[orders_filter['group']=='A'].groupby('visitor_id', as_index=False).agg({'transaction_id' : pd.Series.nunique})\n",
    "ordersA_filter.columns = ['visitor_id', 'orders']\n",
    "\n",
    "ordersB_filter = orders_filter[orders_filter['group']=='B'].groupby('visitor_id', as_index=False).agg({'transaction_id' : pd.Series.nunique})\n",
    "ordersB_filter.columns = ['visitor_id', 'orders']\n",
    "\n",
    "# Добавляем записи с нулевым заказом в кол-ве, соответсвующем разнице между общим кол-вом посетителей и покупателей\n",
    "groupA_filter= pd.concat([ordersA_filter['orders'],pd.Series(0, index=np.arange(visitors[visitors['group']=='A']['visitors'].\n",
    "    sum() - len(ordersA_filter['orders'])), name='orders')],axis=0)\n",
    "groupB_filter = pd.concat([ordersB_filter['orders'],pd.Series(0, index=np.arange(visitors[visitors['group']=='B']['visitors'].\n",
    "    sum() - len(ordersB_filter['orders'])), name='orders')],axis=0)  \n",
    "\n",
    "# передаем массивы в методы \n",
    "print(\"p-value по равенству конверсии: {0:.5f}\".format(st.mannwhitneyu(groupA_filter, groupB_filter)[1]))\n",
    "print(\"Относительное превышение средней конверсии по группе В: {0:.3f}\".format(groupB_filter.mean()/groupA_filter.mean()-1))"
   ]
  },
  {
   "cell_type": "markdown",
   "id": "65fb5ba1",
   "metadata": {},
   "source": [
    "P-value по равенству конверсии менее 0.05. Значит, отвергаем нулевую гипотезу о том, что статически значимых различий в конверсии между группами нет.\n",
    "\n",
    "Cредняя конверсия группы B выше (на 17,3 %) конверсии по группе A.\n"
   ]
  },
  {
   "cell_type": "markdown",
   "id": "c8e743a3",
   "metadata": {},
   "source": [
    "#### Различия в среднем чеке заказа между группами по \"сырым\" данным.\n",
    "\n",
    "Сформируем нулевую гипотезу: статистически значимых различий в среднем чеке заказа между группами нет. Альтернативная гипотеза: статистически значимые различия в среднем чеке заказа между группами есть."
   ]
  },
  {
   "cell_type": "code",
   "execution_count": 40,
   "id": "e11ceade",
   "metadata": {},
   "outputs": [
    {
     "name": "stdout",
     "output_type": "stream",
     "text": [
      "P-value по равенству среднего чека:  0.829\n",
      "Относительное превышение среднего чека группы В: 0.287\n"
     ]
    }
   ],
   "source": [
    "\n",
    "print('P-value по равенству среднего чека: ','{0:.3f}'.format(st.mannwhitneyu(orders[orders['group']=='A']['revenue'], orders[orders['group']=='B']['revenue'])[1]))\n",
    "print('Относительное превышение среднего чека группы В:','{0:.3f}'.format(orders[orders['group']=='B']['revenue'].mean()/orders[orders['group']=='A']['revenue'].mean()-1)) "
   ]
  },
  {
   "cell_type": "markdown",
   "id": "bfba120f",
   "metadata": {},
   "source": [
    "P-value по равенству среднего чека значительно больше 0.05. Значит, нет причин отвергать нулевую гипотезу о том, что статически значимых различий в среднем чеке между группами нет.\n",
    "\n",
    "Cредний чек группы B значительно выше (на 28.7%) среднего чека группы A, такая большая разница в средних чеках случайна."
   ]
  },
  {
   "cell_type": "markdown",
   "id": "9411fdbe",
   "metadata": {},
   "source": [
    "#### Различия в среднем чеке заказа между группами по \"очищенным\" данным.\n",
    "Сформируем нулевую гипотезу: статистически значимых различий в среднем чеке заказа между группами нет. Альтернативная гипотеза: статистически значимые различия в среднем чеке заказа между группами есть."
   ]
  },
  {
   "cell_type": "code",
   "execution_count": 41,
   "id": "e95a8a60",
   "metadata": {},
   "outputs": [
    {
     "name": "stdout",
     "output_type": "stream",
     "text": [
      "P-value по равенству среднего чека:  0.727\n",
      "Относительное превышение среднего чека группы В: -0.034\n"
     ]
    }
   ],
   "source": [
    "# результаты по среднему чеку\n",
    "\n",
    "print('P-value по равенству среднего чека: ','{0:.3f}'.format(\n",
    "        st.mannwhitneyu(\n",
    "            orders[\n",
    "                np.logical_and(\n",
    "                    orders['group'] == 'A',\n",
    "                    np.logical_not(orders['visitor_id'].isin(abnormalUsers)),\n",
    "                )\n",
    "            ]['revenue'],\n",
    "            orders[\n",
    "                np.logical_and(\n",
    "                    orders['group'] == 'B',\n",
    "                    np.logical_not(orders['visitor_id'].isin(abnormalUsers)),\n",
    "                )\n",
    "            ]['revenue'],\n",
    "        )[1]\n",
    "    )\n",
    ")\n",
    "\n",
    "print('Относительное превышение среднего чека группы В:',\"{0:.3f}\".format(\n",
    "        orders[\n",
    "            np.logical_and(\n",
    "                orders['group'] == 'B',\n",
    "                np.logical_not(orders['visitor_id'].isin(abnormalUsers)),\n",
    "            )\n",
    "        ]['revenue'].mean()\n",
    "        / orders[\n",
    "            np.logical_and(\n",
    "                orders['group'] == 'A',\n",
    "                np.logical_not(orders['visitor_id'].isin(abnormalUsers)),\n",
    "            )\n",
    "        ]['revenue'].mean()\n",
    "        - 1\n",
    "    )\n",
    ") "
   ]
  },
  {
   "cell_type": "markdown",
   "id": "a28a5551",
   "metadata": {},
   "source": [
    "P-value по равенству среднего чека значительно больше 0.05. Значит, нет причин отвергать нулевую гипотезу и считать, что в среднем чеке нет различий.\n",
    "\n",
    "Cредний чек группы B и A практически равны.\n",
    "Вывод: после фильтрации данных от выборки сравнялись между собой."
   ]
  },
  {
   "cell_type": "markdown",
   "id": "6bea0ad9",
   "metadata": {},
   "source": [
    "## Выводы\n",
    "\n",
    "По итогам анализа зафиксированы статистические значимые различия между группами А и В.\n",
    "\n",
    "Установлено, что конверсия в группе В выше на 17,3%, при этом нет статистически значимых различий между группами по размеру среднего чека. \n",
    "\n",
    "Тест останавливаем. Фиксируем победу версии В."
   ]
  },
  {
   "cell_type": "code",
   "execution_count": null,
   "id": "abb06257",
   "metadata": {},
   "outputs": [],
   "source": []
  }
 ],
 "metadata": {
  "kernelspec": {
   "display_name": "Python 3 (ipykernel)",
   "language": "python",
   "name": "python3"
  },
  "language_info": {
   "codemirror_mode": {
    "name": "ipython",
    "version": 3
   },
   "file_extension": ".py",
   "mimetype": "text/x-python",
   "name": "python",
   "nbconvert_exporter": "python",
   "pygments_lexer": "ipython3",
   "version": "3.9.12"
  }
 },
 "nbformat": 4,
 "nbformat_minor": 5
}
